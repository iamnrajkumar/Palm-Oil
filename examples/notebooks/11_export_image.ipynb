{
  "cells": [
    {
      "cell_type": "markdown",
      "metadata": {
        "id": "bQw2tKVzyGi0"
      },
      "source": [
        "<a href=\"https://githubtocolab.com/giswqs/geemap/blob/master/examples/notebooks/11_export_image.ipynb\" target=\"_parent\"><img src=\"https://colab.research.google.com/assets/colab-badge.svg\" alt=\"Open in Colab\"/></a>\n",
        "\n",
        "Uncomment the following line to install [geemap](https://geemap.org) if needed."
      ]
    },
    {
      "cell_type": "code",
      "execution_count": 6,
      "metadata": {
        "id": "53APAROhyGi3",
        "outputId": "4c00e503-9dff-4838-f89c-4ea5d2420d8d",
        "colab": {
          "base_uri": "https://localhost:8080/",
          "height": 1000
        }
      },
      "outputs": [
        {
          "output_type": "stream",
          "name": "stdout",
          "text": [
            "Looking in indexes: https://pypi.org/simple, https://us-python.pkg.dev/colab-wheels/public/simple/\n",
            "Collecting geemap\n",
            "  Downloading geemap-0.17.1-py2.py3-none-any.whl (2.1 MB)\n",
            "\u001b[K     |████████████████████████████████| 2.1 MB 28.4 MB/s \n",
            "\u001b[?25hRequirement already satisfied: numpy in /usr/local/lib/python3.7/dist-packages (from geemap) (1.21.6)\n",
            "Collecting ffmpeg-python\n",
            "  Downloading ffmpeg_python-0.2.0-py3-none-any.whl (25 kB)\n",
            "Collecting ipytree\n",
            "  Downloading ipytree-0.2.2-py2.py3-none-any.whl (1.3 MB)\n",
            "\u001b[K     |████████████████████████████████| 1.3 MB 50.8 MB/s \n",
            "\u001b[?25hCollecting geojson\n",
            "  Downloading geojson-2.5.0-py2.py3-none-any.whl (14 kB)\n",
            "Collecting scooby\n",
            "  Downloading scooby-0.6.0-py3-none-any.whl (14 kB)\n",
            "Requirement already satisfied: matplotlib in /usr/local/lib/python3.7/dist-packages (from geemap) (3.2.2)\n",
            "Collecting pyshp>=2.1.3\n",
            "  Downloading pyshp-2.3.1-py2.py3-none-any.whl (46 kB)\n",
            "\u001b[K     |████████████████████████████████| 46 kB 3.6 MB/s \n",
            "\u001b[?25hCollecting xyzservices\n",
            "  Downloading xyzservices-2022.9.0-py3-none-any.whl (55 kB)\n",
            "\u001b[K     |████████████████████████████████| 55 kB 4.9 MB/s \n",
            "\u001b[?25hCollecting bqplot\n",
            "  Downloading bqplot-0.12.36-py2.py3-none-any.whl (1.2 MB)\n",
            "\u001b[K     |████████████████████████████████| 1.2 MB 44.6 MB/s \n",
            "\u001b[?25hRequirement already satisfied: gdown in /usr/local/lib/python3.7/dist-packages (from geemap) (4.4.0)\n",
            "Collecting ipyevents\n",
            "  Downloading ipyevents-2.0.1-py2.py3-none-any.whl (130 kB)\n",
            "\u001b[K     |████████████████████████████████| 130 kB 45.0 MB/s \n",
            "\u001b[?25hCollecting python-box\n",
            "  Downloading python_box-6.0.2-cp37-cp37m-manylinux_2_17_x86_64.manylinux2014_x86_64.whl (3.0 MB)\n",
            "\u001b[K     |████████████████████████████████| 3.0 MB 51.2 MB/s \n",
            "\u001b[?25hCollecting colour\n",
            "  Downloading colour-0.1.5-py2.py3-none-any.whl (23 kB)\n",
            "Requirement already satisfied: folium>=0.11.0 in /usr/local/lib/python3.7/dist-packages (from geemap) (0.12.1.post1)\n",
            "Collecting pycrs\n",
            "  Downloading PyCRS-1.0.2.tar.gz (36 kB)\n",
            "Collecting ipyleaflet>=0.17.0\n",
            "  Downloading ipyleaflet-0.17.1-py3-none-any.whl (3.4 MB)\n",
            "\u001b[K     |████████████████████████████████| 3.4 MB 49.9 MB/s \n",
            "\u001b[?25hCollecting ipyfilechooser>=0.6.0\n",
            "  Downloading ipyfilechooser-0.6.0-py3-none-any.whl (11 kB)\n",
            "Collecting jupyterlab>=3\n",
            "  Downloading jupyterlab-3.4.8-py3-none-any.whl (8.8 MB)\n",
            "\u001b[K     |████████████████████████████████| 8.8 MB 66.0 MB/s \n",
            "\u001b[?25hRequirement already satisfied: pandas in /usr/local/lib/python3.7/dist-packages (from geemap) (1.3.5)\n",
            "Requirement already satisfied: pillow in /usr/local/lib/python3.7/dist-packages (from geemap) (7.1.2)\n",
            "Collecting geeadd>=0.5.1\n",
            "  Downloading geeadd-0.5.6-py3-none-any.whl (30 kB)\n",
            "Collecting sankee>=0.1.0\n",
            "  Downloading sankee-0.2.0.tar.gz (29 kB)\n",
            "Collecting ee-extra>=0.0.10\n",
            "  Downloading ee_extra-0.0.14.tar.gz (198 kB)\n",
            "\u001b[K     |████████████████████████████████| 198 kB 58.8 MB/s \n",
            "\u001b[?25hRequirement already satisfied: earthengine-api>=0.1.304 in /usr/local/lib/python3.7/dist-packages (from geemap) (0.1.326)\n",
            "Collecting whiteboxgui>=0.6.0\n",
            "  Downloading whiteboxgui-0.7.0-py2.py3-none-any.whl (99 kB)\n",
            "\u001b[K     |████████████████████████████████| 99 kB 9.2 MB/s \n",
            "\u001b[?25hCollecting geocoder\n",
            "  Downloading geocoder-1.38.1-py2.py3-none-any.whl (98 kB)\n",
            "\u001b[K     |████████████████████████████████| 98 kB 8.7 MB/s \n",
            "\u001b[?25hRequirement already satisfied: google-auth>=1.4.1 in /usr/local/lib/python3.7/dist-packages (from earthengine-api>=0.1.304->geemap) (1.35.0)\n",
            "Requirement already satisfied: google-auth-httplib2>=0.0.3 in /usr/local/lib/python3.7/dist-packages (from earthengine-api>=0.1.304->geemap) (0.0.4)\n",
            "Requirement already satisfied: six in /usr/local/lib/python3.7/dist-packages (from earthengine-api>=0.1.304->geemap) (1.15.0)\n",
            "Requirement already satisfied: future in /usr/local/lib/python3.7/dist-packages (from earthengine-api>=0.1.304->geemap) (0.16.0)\n",
            "Requirement already satisfied: google-api-python-client<2,>=1.12.1 in /usr/local/lib/python3.7/dist-packages (from earthengine-api>=0.1.304->geemap) (1.12.11)\n",
            "Requirement already satisfied: httplib2<1dev,>=0.9.2 in /usr/local/lib/python3.7/dist-packages (from earthengine-api>=0.1.304->geemap) (0.17.4)\n",
            "Requirement already satisfied: google-cloud-storage in /usr/local/lib/python3.7/dist-packages (from earthengine-api>=0.1.304->geemap) (1.18.1)\n",
            "Requirement already satisfied: httplib2shim in /usr/local/lib/python3.7/dist-packages (from earthengine-api>=0.1.304->geemap) (0.0.3)\n",
            "Requirement already satisfied: branca>=0.3.0 in /usr/local/lib/python3.7/dist-packages (from folium>=0.11.0->geemap) (0.5.0)\n",
            "Requirement already satisfied: jinja2>=2.9 in /usr/local/lib/python3.7/dist-packages (from folium>=0.11.0->geemap) (2.11.3)\n",
            "Requirement already satisfied: requests in /usr/local/lib/python3.7/dist-packages (from folium>=0.11.0->geemap) (2.23.0)\n",
            "Collecting logzero>=1.5.0\n",
            "  Downloading logzero-1.7.0-py2.py3-none-any.whl (16 kB)\n",
            "Collecting beautifulsoup4>=4.9.0\n",
            "  Downloading beautifulsoup4-4.11.1-py3-none-any.whl (128 kB)\n",
            "\u001b[K     |████████████████████████████████| 128 kB 63.2 MB/s \n",
            "\u001b[?25hCollecting soupsieve>1.2\n",
            "  Downloading soupsieve-2.3.2.post1-py3-none-any.whl (37 kB)\n",
            "Requirement already satisfied: uritemplate<4dev,>=3.0.0 in /usr/local/lib/python3.7/dist-packages (from google-api-python-client<2,>=1.12.1->earthengine-api>=0.1.304->geemap) (3.0.1)\n",
            "Requirement already satisfied: google-api-core<3dev,>=1.21.0 in /usr/local/lib/python3.7/dist-packages (from google-api-python-client<2,>=1.12.1->earthengine-api>=0.1.304->geemap) (1.31.6)\n",
            "Requirement already satisfied: setuptools>=40.3.0 in /usr/local/lib/python3.7/dist-packages (from google-api-core<3dev,>=1.21.0->google-api-python-client<2,>=1.12.1->earthengine-api>=0.1.304->geemap) (57.4.0)\n",
            "Requirement already satisfied: protobuf<4.0.0dev,>=3.12.0 in /usr/local/lib/python3.7/dist-packages (from google-api-core<3dev,>=1.21.0->google-api-python-client<2,>=1.12.1->earthengine-api>=0.1.304->geemap) (3.17.3)\n",
            "Requirement already satisfied: pytz in /usr/local/lib/python3.7/dist-packages (from google-api-core<3dev,>=1.21.0->google-api-python-client<2,>=1.12.1->earthengine-api>=0.1.304->geemap) (2022.4)\n",
            "Requirement already satisfied: googleapis-common-protos<2.0dev,>=1.6.0 in /usr/local/lib/python3.7/dist-packages (from google-api-core<3dev,>=1.21.0->google-api-python-client<2,>=1.12.1->earthengine-api>=0.1.304->geemap) (1.56.4)\n",
            "Requirement already satisfied: packaging>=14.3 in /usr/local/lib/python3.7/dist-packages (from google-api-core<3dev,>=1.21.0->google-api-python-client<2,>=1.12.1->earthengine-api>=0.1.304->geemap) (21.3)\n",
            "Requirement already satisfied: cachetools<5.0,>=2.0.0 in /usr/local/lib/python3.7/dist-packages (from google-auth>=1.4.1->earthengine-api>=0.1.304->geemap) (4.2.4)\n",
            "Requirement already satisfied: rsa<5,>=3.1.4 in /usr/local/lib/python3.7/dist-packages (from google-auth>=1.4.1->earthengine-api>=0.1.304->geemap) (4.9)\n",
            "Requirement already satisfied: pyasn1-modules>=0.2.1 in /usr/local/lib/python3.7/dist-packages (from google-auth>=1.4.1->earthengine-api>=0.1.304->geemap) (0.2.8)\n",
            "Requirement already satisfied: ipywidgets in /usr/local/lib/python3.7/dist-packages (from ipyfilechooser>=0.6.0->geemap) (7.7.1)\n",
            "Collecting traittypes<3,>=0.2.1\n",
            "  Downloading traittypes-0.2.1-py2.py3-none-any.whl (8.6 kB)\n",
            "Requirement already satisfied: ipykernel>=4.5.1 in /usr/local/lib/python3.7/dist-packages (from ipywidgets->ipyfilechooser>=0.6.0->geemap) (5.3.4)\n",
            "Requirement already satisfied: widgetsnbextension~=3.6.0 in /usr/local/lib/python3.7/dist-packages (from ipywidgets->ipyfilechooser>=0.6.0->geemap) (3.6.1)\n",
            "Requirement already satisfied: ipython>=4.0.0 in /usr/local/lib/python3.7/dist-packages (from ipywidgets->ipyfilechooser>=0.6.0->geemap) (7.9.0)\n",
            "Requirement already satisfied: ipython-genutils~=0.2.0 in /usr/local/lib/python3.7/dist-packages (from ipywidgets->ipyfilechooser>=0.6.0->geemap) (0.2.0)\n",
            "Requirement already satisfied: jupyterlab-widgets>=1.0.0 in /usr/local/lib/python3.7/dist-packages (from ipywidgets->ipyfilechooser>=0.6.0->geemap) (3.0.3)\n",
            "Requirement already satisfied: traitlets>=4.3.1 in /usr/local/lib/python3.7/dist-packages (from ipywidgets->ipyfilechooser>=0.6.0->geemap) (5.1.1)\n",
            "Requirement already satisfied: jupyter-client in /usr/local/lib/python3.7/dist-packages (from ipykernel>=4.5.1->ipywidgets->ipyfilechooser>=0.6.0->geemap) (6.1.12)\n",
            "Requirement already satisfied: tornado>=4.2 in /usr/local/lib/python3.7/dist-packages (from ipykernel>=4.5.1->ipywidgets->ipyfilechooser>=0.6.0->geemap) (5.1.1)\n",
            "Collecting jedi>=0.10\n",
            "  Downloading jedi-0.18.1-py2.py3-none-any.whl (1.6 MB)\n",
            "\u001b[K     |████████████████████████████████| 1.6 MB 54.8 MB/s \n",
            "\u001b[?25hRequirement already satisfied: prompt-toolkit<2.1.0,>=2.0.0 in /usr/local/lib/python3.7/dist-packages (from ipython>=4.0.0->ipywidgets->ipyfilechooser>=0.6.0->geemap) (2.0.10)\n",
            "Requirement already satisfied: backcall in /usr/local/lib/python3.7/dist-packages (from ipython>=4.0.0->ipywidgets->ipyfilechooser>=0.6.0->geemap) (0.2.0)\n",
            "Requirement already satisfied: decorator in /usr/local/lib/python3.7/dist-packages (from ipython>=4.0.0->ipywidgets->ipyfilechooser>=0.6.0->geemap) (4.4.2)\n",
            "Requirement already satisfied: pygments in /usr/local/lib/python3.7/dist-packages (from ipython>=4.0.0->ipywidgets->ipyfilechooser>=0.6.0->geemap) (2.6.1)\n",
            "Requirement already satisfied: pexpect in /usr/local/lib/python3.7/dist-packages (from ipython>=4.0.0->ipywidgets->ipyfilechooser>=0.6.0->geemap) (4.8.0)\n",
            "Requirement already satisfied: pickleshare in /usr/local/lib/python3.7/dist-packages (from ipython>=4.0.0->ipywidgets->ipyfilechooser>=0.6.0->geemap) (0.7.5)\n",
            "Requirement already satisfied: parso<0.9.0,>=0.8.0 in /usr/local/lib/python3.7/dist-packages (from jedi>=0.10->ipython>=4.0.0->ipywidgets->ipyfilechooser>=0.6.0->geemap) (0.8.3)\n",
            "Requirement already satisfied: MarkupSafe>=0.23 in /usr/local/lib/python3.7/dist-packages (from jinja2>=2.9->folium>=0.11.0->geemap) (2.0.1)\n",
            "Collecting nbclassic\n",
            "  Downloading nbclassic-0.4.4-py3-none-any.whl (9.8 MB)\n",
            "\u001b[K     |████████████████████████████████| 9.8 MB 51.7 MB/s \n",
            "\u001b[?25hRequirement already satisfied: notebook<7 in /usr/local/lib/python3.7/dist-packages (from jupyterlab>=3->geemap) (5.3.1)\n",
            "Requirement already satisfied: jupyter-core in /usr/local/lib/python3.7/dist-packages (from jupyterlab>=3->geemap) (4.11.1)\n",
            "Collecting jupyter-server~=1.16\n",
            "  Downloading jupyter_server-1.19.1-py3-none-any.whl (346 kB)\n",
            "\u001b[K     |████████████████████████████████| 346 kB 59.6 MB/s \n",
            "\u001b[?25hCollecting jupyterlab-server~=2.10\n",
            "  Downloading jupyterlab_server-2.15.2-py3-none-any.whl (54 kB)\n",
            "\u001b[K     |████████████████████████████████| 54 kB 1.9 MB/s \n",
            "\u001b[?25hRequirement already satisfied: tomli in /usr/local/lib/python3.7/dist-packages (from jupyterlab>=3->geemap) (2.0.1)\n",
            "Collecting tornado>=4.2\n",
            "  Downloading tornado-6.2-cp37-abi3-manylinux_2_5_x86_64.manylinux1_x86_64.manylinux_2_17_x86_64.manylinux2014_x86_64.whl (423 kB)\n",
            "\u001b[K     |████████████████████████████████| 423 kB 80.6 MB/s \n",
            "\u001b[?25hCollecting prometheus-client\n",
            "  Downloading prometheus_client-0.14.1-py3-none-any.whl (59 kB)\n",
            "\u001b[K     |████████████████████████████████| 59 kB 6.9 MB/s \n",
            "\u001b[?25hCollecting anyio<4,>=3.1.0\n",
            "  Downloading anyio-3.6.1-py3-none-any.whl (80 kB)\n",
            "\u001b[K     |████████████████████████████████| 80 kB 11.3 MB/s \n",
            "\u001b[?25hCollecting argon2-cffi\n",
            "  Downloading argon2_cffi-21.3.0-py3-none-any.whl (14 kB)\n",
            "Requirement already satisfied: pyzmq>=17 in /usr/local/lib/python3.7/dist-packages (from jupyter-server~=1.16->jupyterlab>=3->geemap) (23.2.1)\n",
            "Collecting websocket-client\n",
            "  Downloading websocket_client-1.4.1-py3-none-any.whl (55 kB)\n",
            "\u001b[K     |████████████████████████████████| 55 kB 3.4 MB/s \n",
            "\u001b[?25hCollecting nbconvert>=6.4.4\n",
            "  Downloading nbconvert-7.2.1-py3-none-any.whl (271 kB)\n",
            "\u001b[K     |████████████████████████████████| 271 kB 71.6 MB/s \n",
            "\u001b[?25hRequirement already satisfied: nbformat>=5.2.0 in /usr/local/lib/python3.7/dist-packages (from jupyter-server~=1.16->jupyterlab>=3->geemap) (5.6.1)\n",
            "Requirement already satisfied: Send2Trash in /usr/local/lib/python3.7/dist-packages (from jupyter-server~=1.16->jupyterlab>=3->geemap) (1.8.0)\n",
            "Requirement already satisfied: terminado>=0.8.3 in /usr/local/lib/python3.7/dist-packages (from jupyter-server~=1.16->jupyterlab>=3->geemap) (0.13.3)\n",
            "Requirement already satisfied: idna>=2.8 in /usr/local/lib/python3.7/dist-packages (from anyio<4,>=3.1.0->jupyter-server~=1.16->jupyterlab>=3->geemap) (2.10)\n",
            "Requirement already satisfied: typing-extensions in /usr/local/lib/python3.7/dist-packages (from anyio<4,>=3.1.0->jupyter-server~=1.16->jupyterlab>=3->geemap) (4.1.1)\n",
            "Collecting sniffio>=1.1\n",
            "  Downloading sniffio-1.3.0-py3-none-any.whl (10 kB)\n",
            "Requirement already satisfied: python-dateutil>=2.1 in /usr/local/lib/python3.7/dist-packages (from jupyter-client->ipykernel>=4.5.1->ipywidgets->ipyfilechooser>=0.6.0->geemap) (2.8.2)\n",
            "Requirement already satisfied: jsonschema>=3.0.1 in /usr/local/lib/python3.7/dist-packages (from jupyterlab-server~=2.10->jupyterlab>=3->geemap) (4.3.3)\n",
            "Requirement already satisfied: importlib-metadata>=3.6 in /usr/local/lib/python3.7/dist-packages (from jupyterlab-server~=2.10->jupyterlab>=3->geemap) (5.0.0)\n",
            "Collecting json5\n",
            "  Downloading json5-0.9.10-py2.py3-none-any.whl (19 kB)\n",
            "Requirement already satisfied: babel in /usr/local/lib/python3.7/dist-packages (from jupyterlab-server~=2.10->jupyterlab>=3->geemap) (2.10.3)\n",
            "Collecting jinja2>=2.9\n",
            "  Downloading Jinja2-3.1.2-py3-none-any.whl (133 kB)\n",
            "\u001b[K     |████████████████████████████████| 133 kB 80.6 MB/s \n",
            "\u001b[?25hRequirement already satisfied: zipp>=0.5 in /usr/local/lib/python3.7/dist-packages (from importlib-metadata>=3.6->jupyterlab-server~=2.10->jupyterlab>=3->geemap) (3.8.1)\n",
            "Requirement already satisfied: attrs>=17.4.0 in /usr/local/lib/python3.7/dist-packages (from jsonschema>=3.0.1->jupyterlab-server~=2.10->jupyterlab>=3->geemap) (22.1.0)\n",
            "Requirement already satisfied: pyrsistent!=0.17.0,!=0.17.1,!=0.17.2,>=0.14.0 in /usr/local/lib/python3.7/dist-packages (from jsonschema>=3.0.1->jupyterlab-server~=2.10->jupyterlab>=3->geemap) (0.18.1)\n",
            "Requirement already satisfied: importlib-resources>=1.4.0 in /usr/local/lib/python3.7/dist-packages (from jsonschema>=3.0.1->jupyterlab-server~=2.10->jupyterlab>=3->geemap) (5.9.0)\n",
            "Collecting tinycss2\n",
            "  Downloading tinycss2-1.1.1-py3-none-any.whl (21 kB)\n",
            "Requirement already satisfied: defusedxml in /usr/local/lib/python3.7/dist-packages (from nbconvert>=6.4.4->jupyter-server~=1.16->jupyterlab>=3->geemap) (0.7.1)\n",
            "Collecting jupyterlab-pygments\n",
            "  Downloading jupyterlab_pygments-0.2.2-py2.py3-none-any.whl (21 kB)\n",
            "Requirement already satisfied: pandocfilters>=1.4.1 in /usr/local/lib/python3.7/dist-packages (from nbconvert>=6.4.4->jupyter-server~=1.16->jupyterlab>=3->geemap) (1.5.0)\n",
            "Collecting mistune<3,>=2.0.3\n",
            "  Downloading mistune-2.0.4-py2.py3-none-any.whl (24 kB)\n",
            "Requirement already satisfied: bleach in /usr/local/lib/python3.7/dist-packages (from nbconvert>=6.4.4->jupyter-server~=1.16->jupyterlab>=3->geemap) (5.0.1)\n",
            "Collecting nbclient>=0.5.0\n",
            "  Downloading nbclient-0.7.0-py3-none-any.whl (71 kB)\n",
            "\u001b[K     |████████████████████████████████| 71 kB 239 kB/s \n",
            "\u001b[?25hCollecting traitlets>=4.3.1\n",
            "  Downloading traitlets-5.4.0-py3-none-any.whl (107 kB)\n",
            "\u001b[K     |████████████████████████████████| 107 kB 58.0 MB/s \n",
            "\u001b[?25hCollecting nest-asyncio\n",
            "  Downloading nest_asyncio-1.5.6-py3-none-any.whl (5.2 kB)\n",
            "Requirement already satisfied: fastjsonschema in /usr/local/lib/python3.7/dist-packages (from nbformat>=5.2.0->jupyter-server~=1.16->jupyterlab>=3->geemap) (2.16.2)\n",
            "Requirement already satisfied: pyparsing!=3.0.5,>=2.0.2 in /usr/local/lib/python3.7/dist-packages (from packaging>=14.3->google-api-core<3dev,>=1.21.0->google-api-python-client<2,>=1.12.1->earthengine-api>=0.1.304->geemap) (3.0.9)\n",
            "Requirement already satisfied: wcwidth in /usr/local/lib/python3.7/dist-packages (from prompt-toolkit<2.1.0,>=2.0.0->ipython>=4.0.0->ipywidgets->ipyfilechooser>=0.6.0->geemap) (0.2.5)\n",
            "Requirement already satisfied: pyasn1<0.5.0,>=0.4.6 in /usr/local/lib/python3.7/dist-packages (from pyasn1-modules>=0.2.1->google-auth>=1.4.1->earthengine-api>=0.1.304->geemap) (0.4.8)\n",
            "Requirement already satisfied: certifi>=2017.4.17 in /usr/local/lib/python3.7/dist-packages (from requests->folium>=0.11.0->geemap) (2022.9.24)\n",
            "Requirement already satisfied: chardet<4,>=3.0.2 in /usr/local/lib/python3.7/dist-packages (from requests->folium>=0.11.0->geemap) (3.0.4)\n",
            "Requirement already satisfied: urllib3!=1.25.0,!=1.25.1,<1.26,>=1.21.1 in /usr/local/lib/python3.7/dist-packages (from requests->folium>=0.11.0->geemap) (1.24.3)\n",
            "Requirement already satisfied: plotly>=5.2.2 in /usr/local/lib/python3.7/dist-packages (from sankee>=0.1.0->geemap) (5.5.0)\n",
            "Requirement already satisfied: tenacity>=6.2.0 in /usr/local/lib/python3.7/dist-packages (from plotly>=5.2.2->sankee>=0.1.0->geemap) (8.1.0)\n",
            "Requirement already satisfied: ptyprocess in /usr/local/lib/python3.7/dist-packages (from terminado>=0.8.3->jupyter-server~=1.16->jupyterlab>=3->geemap) (0.7.0)\n",
            "Collecting whitebox\n",
            "  Downloading whitebox-2.1.4-py2.py3-none-any.whl (75 kB)\n",
            "\u001b[K     |████████████████████████████████| 75 kB 4.9 MB/s \n",
            "\u001b[?25hCollecting argon2-cffi-bindings\n",
            "  Downloading argon2_cffi_bindings-21.2.0-cp36-abi3-manylinux_2_17_x86_64.manylinux2014_x86_64.whl (86 kB)\n",
            "\u001b[K     |████████████████████████████████| 86 kB 5.3 MB/s \n",
            "\u001b[?25hRequirement already satisfied: cffi>=1.0.1 in /usr/local/lib/python3.7/dist-packages (from argon2-cffi-bindings->argon2-cffi->jupyter-server~=1.16->jupyterlab>=3->geemap) (1.15.1)\n",
            "Requirement already satisfied: pycparser in /usr/local/lib/python3.7/dist-packages (from cffi>=1.0.1->argon2-cffi-bindings->argon2-cffi->jupyter-server~=1.16->jupyterlab>=3->geemap) (2.21)\n",
            "Requirement already satisfied: webencodings in /usr/local/lib/python3.7/dist-packages (from bleach->nbconvert>=6.4.4->jupyter-server~=1.16->jupyterlab>=3->geemap) (0.5.1)\n",
            "Requirement already satisfied: tqdm in /usr/local/lib/python3.7/dist-packages (from gdown->geemap) (4.64.1)\n",
            "Requirement already satisfied: filelock in /usr/local/lib/python3.7/dist-packages (from gdown->geemap) (3.8.0)\n",
            "Collecting ratelim\n",
            "  Downloading ratelim-0.1.6-py2.py3-none-any.whl (4.0 kB)\n",
            "Requirement already satisfied: click in /usr/local/lib/python3.7/dist-packages (from geocoder->geemap) (7.1.2)\n",
            "Requirement already satisfied: google-resumable-media<0.5.0dev,>=0.3.1 in /usr/local/lib/python3.7/dist-packages (from google-cloud-storage->earthengine-api>=0.1.304->geemap) (0.4.1)\n",
            "Requirement already satisfied: google-cloud-core<2.0dev,>=1.0.0 in /usr/local/lib/python3.7/dist-packages (from google-cloud-storage->earthengine-api>=0.1.304->geemap) (1.0.3)\n",
            "Requirement already satisfied: kiwisolver>=1.0.1 in /usr/local/lib/python3.7/dist-packages (from matplotlib->geemap) (1.4.4)\n",
            "Requirement already satisfied: cycler>=0.10 in /usr/local/lib/python3.7/dist-packages (from matplotlib->geemap) (0.11.0)\n",
            "Collecting notebook-shim>=0.1.0\n",
            "  Downloading notebook_shim-0.1.0-py3-none-any.whl (13 kB)\n",
            "Requirement already satisfied: PySocks!=1.5.7,>=1.5.6 in /usr/local/lib/python3.7/dist-packages (from requests->folium>=0.11.0->geemap) (1.7.1)\n",
            "Building wheels for collected packages: ee-extra, sankee, pycrs\n",
            "  Building wheel for ee-extra (setup.py) ... \u001b[?25l\u001b[?25hdone\n",
            "  Created wheel for ee-extra: filename=ee_extra-0.0.14-py3-none-any.whl size=209114 sha256=4793c59bacdaf8f2d66ed77f91e035ef999b561d0ab9850c180b5e004863a383\n",
            "  Stored in directory: /root/.cache/pip/wheels/50/1f/56/c638a525bcb6972c82e422747430d756edea7d57b539229bb3\n",
            "  Building wheel for sankee (setup.py) ... \u001b[?25l\u001b[?25hdone\n",
            "  Created wheel for sankee: filename=sankee-0.2.0-py3-none-any.whl size=28745 sha256=1ed4b373e8663808a791fa1d21423cb0d313db468b1cfc35f6a206bce2b7978c\n",
            "  Stored in directory: /root/.cache/pip/wheels/36/b4/ac/84c3f06e5c44d3fe5029713232438862881e6e1f26657d5fd8\n",
            "  Building wheel for pycrs (setup.py) ... \u001b[?25l\u001b[?25hdone\n",
            "  Created wheel for pycrs: filename=PyCRS-1.0.2-py3-none-any.whl size=32704 sha256=7df93a82a31adf708c8dcd89ebab74584a3d90f614b5d85e775ca76e70a93d02\n",
            "  Stored in directory: /root/.cache/pip/wheels/3e/ce/32/1ec0aba6b9770681a423e82f0274c57d09ad2c20c2864901f9\n",
            "Successfully built ee-extra sankee pycrs\n",
            "Installing collected packages: traitlets, tornado, soupsieve, nest-asyncio, jedi, tinycss2, nbclient, mistune, jupyterlab-pygments, jinja2, beautifulsoup4, sniffio, nbconvert, argon2-cffi-bindings, websocket-client, prometheus-client, argon2-cffi, anyio, jupyter-server, notebook-shim, json5, xyzservices, whitebox, traittypes, ratelim, nbclassic, logzero, jupyterlab-server, ipytree, ipyfilechooser, whiteboxgui, scooby, sankee, python-box, pyshp, pycrs, jupyterlab, ipyleaflet, ipyevents, geojson, geocoder, geeadd, ffmpeg-python, ee-extra, colour, bqplot, geemap\n",
            "  Attempting uninstall: traitlets\n",
            "    Found existing installation: traitlets 5.1.1\n",
            "    Uninstalling traitlets-5.1.1:\n",
            "      Successfully uninstalled traitlets-5.1.1\n",
            "  Attempting uninstall: tornado\n",
            "    Found existing installation: tornado 5.1.1\n",
            "    Uninstalling tornado-5.1.1:\n",
            "      Successfully uninstalled tornado-5.1.1\n",
            "  Attempting uninstall: mistune\n",
            "    Found existing installation: mistune 0.8.4\n",
            "    Uninstalling mistune-0.8.4:\n",
            "      Successfully uninstalled mistune-0.8.4\n",
            "  Attempting uninstall: jinja2\n",
            "    Found existing installation: Jinja2 2.11.3\n",
            "    Uninstalling Jinja2-2.11.3:\n",
            "      Successfully uninstalled Jinja2-2.11.3\n",
            "  Attempting uninstall: beautifulsoup4\n",
            "    Found existing installation: beautifulsoup4 4.6.3\n",
            "    Uninstalling beautifulsoup4-4.6.3:\n",
            "      Successfully uninstalled beautifulsoup4-4.6.3\n",
            "  Attempting uninstall: nbconvert\n",
            "    Found existing installation: nbconvert 5.6.1\n",
            "    Uninstalling nbconvert-5.6.1:\n",
            "      Successfully uninstalled nbconvert-5.6.1\n",
            "\u001b[31mERROR: pip's dependency resolver does not currently take into account all the packages that are installed. This behaviour is the source of the following dependency conflicts.\n",
            "google-colab 1.0.0 requires tornado~=5.1.0, but you have tornado 6.2 which is incompatible.\n",
            "flask 1.1.4 requires Jinja2<3.0,>=2.10.1, but you have jinja2 3.1.2 which is incompatible.\u001b[0m\n",
            "Successfully installed anyio-3.6.1 argon2-cffi-21.3.0 argon2-cffi-bindings-21.2.0 beautifulsoup4-4.11.1 bqplot-0.12.36 colour-0.1.5 ee-extra-0.0.14 ffmpeg-python-0.2.0 geeadd-0.5.6 geemap-0.17.1 geocoder-1.38.1 geojson-2.5.0 ipyevents-2.0.1 ipyfilechooser-0.6.0 ipyleaflet-0.17.1 ipytree-0.2.2 jedi-0.18.1 jinja2-3.1.2 json5-0.9.10 jupyter-server-1.19.1 jupyterlab-3.4.8 jupyterlab-pygments-0.2.2 jupyterlab-server-2.15.2 logzero-1.7.0 mistune-2.0.4 nbclassic-0.4.4 nbclient-0.7.0 nbconvert-7.2.1 nest-asyncio-1.5.6 notebook-shim-0.1.0 prometheus-client-0.14.1 pycrs-1.0.2 pyshp-2.3.1 python-box-6.0.2 ratelim-0.1.6 sankee-0.2.0 scooby-0.6.0 sniffio-1.3.0 soupsieve-2.3.2.post1 tinycss2-1.1.1 tornado-6.2 traitlets-5.4.0 traittypes-0.2.1 websocket-client-1.4.1 whitebox-2.1.4 whiteboxgui-0.7.0 xyzservices-2022.9.0\n"
          ]
        },
        {
          "output_type": "display_data",
          "data": {
            "application/vnd.colab-display-data+json": {
              "pip_warning": {
                "packages": [
                  "tornado"
                ]
              }
            }
          },
          "metadata": {}
        }
      ],
      "source": [
        "!pip install geemap"
      ]
    },
    {
      "cell_type": "code",
      "execution_count": 2,
      "metadata": {
        "id": "g44nq3SdyGi4"
      },
      "outputs": [],
      "source": [
        "import ee\n",
        "import geemap.eefolium as geemap\n",
        "import os"
      ]
    },
    {
      "cell_type": "code",
      "execution_count": 3,
      "metadata": {
        "id": "LUWipFCJyGi5",
        "outputId": "9bda93c6-62e7-4173-f6e5-15be9cca9898",
        "colab": {
          "base_uri": "https://localhost:8080/",
          "height": 471,
          "referenced_widgets": [
            "ceea1c8029f842cc8519b30b39be9960",
            "89337bbf9b43450ebedd18e060a8d72a"
          ]
        }
      },
      "outputs": [
        {
          "output_type": "display_data",
          "data": {
            "text/plain": [
              "Output(layout=Layout(width='815px'))"
            ],
            "application/vnd.jupyter.widget-view+json": {
              "version_major": 2,
              "version_minor": 0,
              "model_id": "ceea1c8029f842cc8519b30b39be9960"
            }
          },
          "metadata": {
            "application/vnd.jupyter.widget-view+json": {
              "colab": {
                "custom_widget_manager": {
                  "url": "https://ssl.gstatic.com/colaboratory-static/widgets/colab-cdn-widget-manager/d2e234f7cc04bf79/manager.min.js"
                }
              }
            }
          }
        }
      ],
      "source": [
        "geemap.show_youtube('_6JOA-iiEGU')"
      ]
    },
    {
      "cell_type": "code",
      "execution_count": 4,
      "metadata": {
        "id": "Dja-pquYyGi5",
        "outputId": "0bd505f6-5a5d-4702-adc1-106645edf8c3",
        "colab": {
          "base_uri": "https://localhost:8080/",
          "height": 1000
        }
      },
      "outputs": [
        {
          "output_type": "stream",
          "name": "stdout",
          "text": [
            "To authorize access needed by Earth Engine, open the following URL in a web browser and follow the instructions. If the web browser does not start automatically, please manually browse the URL below.\n",
            "\n",
            "    https://code.earthengine.google.com/client-auth?scopes=https%3A//www.googleapis.com/auth/earthengine%20https%3A//www.googleapis.com/auth/devstorage.full_control&request_id=dytQVPXCSP5FQGnI-iYwt_2dkOyVGq1_TZp3TVbNSx4&tc=YC1oCtz3dkS2qSoVhDRvJiT90vqys_uNW1c375tMavs&cc=i-iOlv7pH8IQ41reXY2NZO-72bm_OqhtYZ5ikv_8jmA\n",
            "\n",
            "The authorization workflow will generate a code, which you should paste in the box below.\n",
            "Enter verification code: 4/1ARtbsJpgkcucsGWo9VzqGHRZGS-Jg-FPysMFA3J8lzzEmChHu4zITs10P60\n",
            "\n",
            "Successfully saved authorization token.\n"
          ]
        },
        {
          "output_type": "execute_result",
          "data": {
            "text/plain": [
              "<geemap.eefolium.Map at 0x7f2551b18750>"
            ],
            "text/html": [
              "<div style=\"width:100%;\"><div style=\"position:relative;width:100%;height:0;padding-bottom:60%;\"><span style=\"color:#565656\">Make this Notebook Trusted to load map: File -> Trust Notebook</span><iframe srcdoc=\"&lt;!DOCTYPE html&gt;\n",
              "&lt;head&gt;    \n",
              "    &lt;meta http-equiv=&quot;content-type&quot; content=&quot;text/html; charset=UTF-8&quot; /&gt;\n",
              "    \n",
              "        &lt;script&gt;\n",
              "            L_NO_TOUCH = false;\n",
              "            L_DISABLE_3D = false;\n",
              "        &lt;/script&gt;\n",
              "    \n",
              "    &lt;style&gt;html, body {width: 100%;height: 100%;margin: 0;padding: 0;}&lt;/style&gt;\n",
              "    &lt;style&gt;#map {position:absolute;top:0;bottom:0;right:0;left:0;}&lt;/style&gt;\n",
              "    &lt;script src=&quot;https://cdn.jsdelivr.net/npm/leaflet@1.6.0/dist/leaflet.js&quot;&gt;&lt;/script&gt;\n",
              "    &lt;script src=&quot;https://code.jquery.com/jquery-1.12.4.min.js&quot;&gt;&lt;/script&gt;\n",
              "    &lt;script src=&quot;https://maxcdn.bootstrapcdn.com/bootstrap/3.2.0/js/bootstrap.min.js&quot;&gt;&lt;/script&gt;\n",
              "    &lt;script src=&quot;https://cdnjs.cloudflare.com/ajax/libs/Leaflet.awesome-markers/2.0.2/leaflet.awesome-markers.js&quot;&gt;&lt;/script&gt;\n",
              "    &lt;link rel=&quot;stylesheet&quot; href=&quot;https://cdn.jsdelivr.net/npm/leaflet@1.6.0/dist/leaflet.css&quot;/&gt;\n",
              "    &lt;link rel=&quot;stylesheet&quot; href=&quot;https://maxcdn.bootstrapcdn.com/bootstrap/3.2.0/css/bootstrap.min.css&quot;/&gt;\n",
              "    &lt;link rel=&quot;stylesheet&quot; href=&quot;https://maxcdn.bootstrapcdn.com/bootstrap/3.2.0/css/bootstrap-theme.min.css&quot;/&gt;\n",
              "    &lt;link rel=&quot;stylesheet&quot; href=&quot;https://maxcdn.bootstrapcdn.com/font-awesome/4.6.3/css/font-awesome.min.css&quot;/&gt;\n",
              "    &lt;link rel=&quot;stylesheet&quot; href=&quot;https://cdnjs.cloudflare.com/ajax/libs/Leaflet.awesome-markers/2.0.2/leaflet.awesome-markers.css&quot;/&gt;\n",
              "    &lt;link rel=&quot;stylesheet&quot; href=&quot;https://cdn.jsdelivr.net/gh/python-visualization/folium/folium/templates/leaflet.awesome.rotate.min.css&quot;/&gt;\n",
              "    \n",
              "            &lt;meta name=&quot;viewport&quot; content=&quot;width=device-width,\n",
              "                initial-scale=1.0, maximum-scale=1.0, user-scalable=no&quot; /&gt;\n",
              "            &lt;style&gt;\n",
              "                #map_af312063c8bd997ab1e5cf0f393f6a6a {\n",
              "                    position: relative;\n",
              "                    width: 100.0%;\n",
              "                    height: 100.0%;\n",
              "                    left: 0.0%;\n",
              "                    top: 0.0%;\n",
              "                }\n",
              "            &lt;/style&gt;\n",
              "        \n",
              "    &lt;script src=&quot;https://cdnjs.cloudflare.com/ajax/libs/leaflet.fullscreen/1.4.2/Control.FullScreen.min.js&quot;&gt;&lt;/script&gt;\n",
              "    &lt;link rel=&quot;stylesheet&quot; href=&quot;https://cdnjs.cloudflare.com/ajax/libs/leaflet.fullscreen/1.4.2/Control.FullScreen.min.css&quot;/&gt;\n",
              "&lt;/head&gt;\n",
              "&lt;body&gt;    \n",
              "    \n",
              "            &lt;div class=&quot;folium-map&quot; id=&quot;map_af312063c8bd997ab1e5cf0f393f6a6a&quot; &gt;&lt;/div&gt;\n",
              "        \n",
              "&lt;/body&gt;\n",
              "&lt;script&gt;    \n",
              "    \n",
              "            var map_af312063c8bd997ab1e5cf0f393f6a6a = L.map(\n",
              "                &quot;map_af312063c8bd997ab1e5cf0f393f6a6a&quot;,\n",
              "                {\n",
              "                    center: [20.0, 0.0],\n",
              "                    crs: L.CRS.EPSG3857,\n",
              "                    zoom: 2,\n",
              "                    zoomControl: true,\n",
              "                    preferCanvas: false,\n",
              "                    eeInitialize: true,\n",
              "                    addGoogleMap: true,\n",
              "                    pluginLatlngpopup: true,\n",
              "                    pluginFullscreen: true,\n",
              "                    pluginDraw: false,\n",
              "                    DrawExport: true,\n",
              "                    pluginMinimap: false,\n",
              "                    pluginLayercontrol: false,\n",
              "                }\n",
              "            );\n",
              "\n",
              "            \n",
              "\n",
              "        \n",
              "    \n",
              "            var tile_layer_d8e69934394376ae8c807ce1967258f8 = L.tileLayer(\n",
              "                &quot;https://{s}.tile.openstreetmap.org/{z}/{x}/{y}.png&quot;,\n",
              "                {&quot;attribution&quot;: &quot;Data by \\u0026copy; \\u003ca href=\\&quot;http://openstreetmap.org\\&quot;\\u003eOpenStreetMap\\u003c/a\\u003e, under \\u003ca href=\\&quot;http://www.openstreetmap.org/copyright\\&quot;\\u003eODbL\\u003c/a\\u003e.&quot;, &quot;detectRetina&quot;: false, &quot;maxNativeZoom&quot;: 18, &quot;maxZoom&quot;: 18, &quot;minZoom&quot;: 0, &quot;noWrap&quot;: false, &quot;opacity&quot;: 1, &quot;subdomains&quot;: &quot;abc&quot;, &quot;tms&quot;: false}\n",
              "            ).addTo(map_af312063c8bd997ab1e5cf0f393f6a6a);\n",
              "        \n",
              "    \n",
              "            var tile_layer_f4f9568b7320a86a279cc6420c5673f5 = L.tileLayer(\n",
              "                &quot;https://mt1.google.com/vt/lyrs=m\\u0026x={x}\\u0026y={y}\\u0026z={z}&quot;,\n",
              "                {&quot;attribution&quot;: &quot;Google&quot;, &quot;detectRetina&quot;: false, &quot;maxNativeZoom&quot;: 18, &quot;maxZoom&quot;: 18, &quot;minZoom&quot;: 0, &quot;noWrap&quot;: false, &quot;opacity&quot;: 1, &quot;subdomains&quot;: &quot;abc&quot;, &quot;tms&quot;: false}\n",
              "            ).addTo(map_af312063c8bd997ab1e5cf0f393f6a6a);\n",
              "        \n",
              "    \n",
              "                var lat_lng_popup_889c120ab7ef570318de1cb2b7b4395d = L.popup();\n",
              "                function latLngPop(e) {\n",
              "                    lat_lng_popup_889c120ab7ef570318de1cb2b7b4395d\n",
              "                        .setLatLng(e.latlng)\n",
              "                        .setContent(&quot;Latitude: &quot; + e.latlng.lat.toFixed(4) +\n",
              "                                    &quot;&lt;br&gt;Longitude: &quot; + e.latlng.lng.toFixed(4))\n",
              "                        .openOn(map_af312063c8bd997ab1e5cf0f393f6a6a);\n",
              "                    }\n",
              "                map_af312063c8bd997ab1e5cf0f393f6a6a.on(&#x27;click&#x27;, latLngPop);\n",
              "            \n",
              "    \n",
              "            L.control.fullscreen(\n",
              "                {&quot;forceSeparateButton&quot;: false, &quot;position&quot;: &quot;topleft&quot;, &quot;title&quot;: &quot;Full Screen&quot;, &quot;titleCancel&quot;: &quot;Exit Full Screen&quot;}\n",
              "            ).addTo(map_af312063c8bd997ab1e5cf0f393f6a6a);\n",
              "        \n",
              "    \n",
              "            map_af312063c8bd997ab1e5cf0f393f6a6a.fitBounds(\n",
              "                [[20, 0], [20, 0]],\n",
              "                {&quot;maxZoom&quot;: 2}\n",
              "            );\n",
              "        \n",
              "    \n",
              "            var layer_control_af25ab1220c6e17a7570d48b8f0fac6a = {\n",
              "                base_layers : {\n",
              "                    &quot;openstreetmap&quot; : tile_layer_d8e69934394376ae8c807ce1967258f8,\n",
              "                },\n",
              "                overlays :  {\n",
              "                    &quot;Google Maps&quot; : tile_layer_f4f9568b7320a86a279cc6420c5673f5,\n",
              "                },\n",
              "            };\n",
              "            L.control.layers(\n",
              "                layer_control_af25ab1220c6e17a7570d48b8f0fac6a.base_layers,\n",
              "                layer_control_af25ab1220c6e17a7570d48b8f0fac6a.overlays,\n",
              "                {&quot;autoZIndex&quot;: true, &quot;collapsed&quot;: true, &quot;position&quot;: &quot;topright&quot;}\n",
              "            ).addTo(map_af312063c8bd997ab1e5cf0f393f6a6a);\n",
              "        \n",
              "&lt;/script&gt;\" style=\"position:absolute;width:100%;height:100%;left:0;top:0;border:none !important;\" allowfullscreen webkitallowfullscreen mozallowfullscreen></iframe></div></div>"
            ]
          },
          "metadata": {},
          "execution_count": 4
        }
      ],
      "source": [
        "Map = geemap.Map()\n",
        "Map"
      ]
    },
    {
      "cell_type": "markdown",
      "metadata": {
        "id": "0sUnfDYWyGi6"
      },
      "source": [
        "## Download an ee.Image"
      ]
    },
    {
      "cell_type": "code",
      "execution_count": 5,
      "metadata": {
        "id": "cV1PBPjcyGi6"
      },
      "outputs": [],
      "source": [
        "image = ee.Image('LANDSAT/LE7_TOA_5YEAR/1999_2003')\n",
        "\n",
        "landsat_vis = {'bands': ['B4', 'B3', 'B2'], 'gamma': 1.4}\n",
        "Map.addLayer(image, landsat_vis, \"LE7_TOA_5YEAR/1999_2003\", True, 0.7)"
      ]
    },
    {
      "cell_type": "code",
      "execution_count": 6,
      "metadata": {
        "id": "uLukgJUzyGi7",
        "outputId": "88d2e15b-0dcf-49a6-a308-44dbcb33accf",
        "colab": {
          "base_uri": "https://localhost:8080/",
          "height": 235
        }
      },
      "outputs": [
        {
          "output_type": "error",
          "ename": "AttributeError",
          "evalue": "ignored",
          "traceback": [
            "\u001b[0;31m---------------------------------------------------------------------------\u001b[0m",
            "\u001b[0;31mAttributeError\u001b[0m                            Traceback (most recent call last)",
            "\u001b[0;32m<ipython-input-6-346beeb5694f>\u001b[0m in \u001b[0;36m<module>\u001b[0;34m\u001b[0m\n\u001b[1;32m      1\u001b[0m \u001b[0;31m# Draw any shapes on the map using the Drawing tools before executing this code block\u001b[0m\u001b[0;34m\u001b[0m\u001b[0;34m\u001b[0m\u001b[0;34m\u001b[0m\u001b[0m\n\u001b[0;32m----> 2\u001b[0;31m \u001b[0mfeature\u001b[0m \u001b[0;34m=\u001b[0m \u001b[0mMap\u001b[0m\u001b[0;34m.\u001b[0m\u001b[0mdraw_last_feature\u001b[0m\u001b[0;34m\u001b[0m\u001b[0;34m\u001b[0m\u001b[0m\n\u001b[0m\u001b[1;32m      3\u001b[0m \u001b[0;34m\u001b[0m\u001b[0m\n\u001b[1;32m      4\u001b[0m \u001b[0;32mif\u001b[0m \u001b[0mfeature\u001b[0m \u001b[0;32mis\u001b[0m \u001b[0;32mNone\u001b[0m\u001b[0;34m:\u001b[0m\u001b[0;34m\u001b[0m\u001b[0;34m\u001b[0m\u001b[0m\n\u001b[1;32m      5\u001b[0m     geom = ee.Geometry.Polygon(\n",
            "\u001b[0;31mAttributeError\u001b[0m: 'Map' object has no attribute 'draw_last_feature'"
          ]
        }
      ],
      "source": [
        "# Draw any shapes on the map using the Drawing tools before executing this code block\n",
        "feature = Map.draw_last_feature\n",
        "\n",
        "if feature is None:\n",
        "    geom = ee.Geometry.Polygon(\n",
        "        [\n",
        "            [\n",
        "                [-115.413031, 35.889467],\n",
        "                [-115.413031, 36.543157],\n",
        "                [-114.034328, 36.543157],\n",
        "                [-114.034328, 35.889467],\n",
        "                [-115.413031, 35.889467],\n",
        "            ]\n",
        "        ]\n",
        "    )\n",
        "    feature = ee.Feature(geom, {})\n",
        "\n",
        "roi = feature.geometry()"
      ]
    },
    {
      "cell_type": "code",
      "execution_count": 7,
      "metadata": {
        "id": "OaohOnXWyGi7"
      },
      "outputs": [],
      "source": [
        "out_dir = os.path.join(os.path.expanduser('~'), 'Downloads')\n",
        "filename = os.path.join(out_dir, 'landsat.tif')"
      ]
    },
    {
      "cell_type": "markdown",
      "metadata": {
        "id": "QfB2jzIryGi8"
      },
      "source": [
        "### Exporting all bands as one single image"
      ]
    },
    {
      "cell_type": "code",
      "execution_count": 8,
      "metadata": {
        "id": "Y3B872KwyGi8",
        "outputId": "aa999888-c0d6-4e36-819d-5871e4a80233",
        "colab": {
          "base_uri": "https://localhost:8080/",
          "height": 217
        }
      },
      "outputs": [
        {
          "output_type": "error",
          "ename": "NameError",
          "evalue": "ignored",
          "traceback": [
            "\u001b[0;31m---------------------------------------------------------------------------\u001b[0m",
            "\u001b[0;31mNameError\u001b[0m                                 Traceback (most recent call last)",
            "\u001b[0;32m<ipython-input-8-fb4b34491867>\u001b[0m in \u001b[0;36m<module>\u001b[0;34m\u001b[0m\n\u001b[0;32m----> 1\u001b[0;31m \u001b[0mimage\u001b[0m \u001b[0;34m=\u001b[0m \u001b[0mimage\u001b[0m\u001b[0;34m.\u001b[0m\u001b[0mclip\u001b[0m\u001b[0;34m(\u001b[0m\u001b[0mroi\u001b[0m\u001b[0;34m)\u001b[0m\u001b[0;34m.\u001b[0m\u001b[0munmask\u001b[0m\u001b[0;34m(\u001b[0m\u001b[0;34m)\u001b[0m\u001b[0;34m\u001b[0m\u001b[0;34m\u001b[0m\u001b[0m\n\u001b[0m\u001b[1;32m      2\u001b[0m geemap.ee_export_image(\n\u001b[1;32m      3\u001b[0m     \u001b[0mimage\u001b[0m\u001b[0;34m,\u001b[0m \u001b[0mfilename\u001b[0m\u001b[0;34m=\u001b[0m\u001b[0mfilename\u001b[0m\u001b[0;34m,\u001b[0m \u001b[0mscale\u001b[0m\u001b[0;34m=\u001b[0m\u001b[0;36m90\u001b[0m\u001b[0;34m,\u001b[0m \u001b[0mregion\u001b[0m\u001b[0;34m=\u001b[0m\u001b[0mroi\u001b[0m\u001b[0;34m,\u001b[0m \u001b[0mfile_per_band\u001b[0m\u001b[0;34m=\u001b[0m\u001b[0;32mFalse\u001b[0m\u001b[0;34m\u001b[0m\u001b[0;34m\u001b[0m\u001b[0m\n\u001b[1;32m      4\u001b[0m )\n",
            "\u001b[0;31mNameError\u001b[0m: name 'roi' is not defined"
          ]
        }
      ],
      "source": [
        "image = image.clip(roi).unmask()\n",
        "geemap.ee_export_image(\n",
        "    image, filename=filename, scale=90, region=roi, file_per_band=False\n",
        ")"
      ]
    },
    {
      "cell_type": "markdown",
      "metadata": {
        "id": "_G7Guu_iyGi8"
      },
      "source": [
        "### Exporting each band as one image"
      ]
    },
    {
      "cell_type": "code",
      "execution_count": null,
      "metadata": {
        "id": "i0LzH9JuyGi9"
      },
      "outputs": [],
      "source": [
        "geemap.ee_export_image(\n",
        "    image, filename=filename, scale=90, region=roi, file_per_band=True\n",
        ")"
      ]
    },
    {
      "cell_type": "markdown",
      "metadata": {
        "id": "FqfmMCW0yGi9"
      },
      "source": [
        "### Export an image to Google Drive"
      ]
    },
    {
      "cell_type": "code",
      "execution_count": null,
      "metadata": {
        "id": "7Vq93ekUyGi9"
      },
      "outputs": [],
      "source": [
        "geemap.ee_export_image_to_drive(\n",
        "    image, description='landsat', folder='export', region=roi, scale=30\n",
        ")"
      ]
    },
    {
      "cell_type": "markdown",
      "metadata": {
        "id": "Gkmdg3TeyGi9"
      },
      "source": [
        "## Download an ee.ImageCollection"
      ]
    },
    {
      "cell_type": "code",
      "execution_count": null,
      "metadata": {
        "id": "HprkQP34yGi-"
      },
      "outputs": [],
      "source": [
        "import ee\n",
        "import geemap\n",
        "import os"
      ]
    },
    {
      "cell_type": "code",
      "execution_count": null,
      "metadata": {
        "id": "8uZcJ_mMyGi-"
      },
      "outputs": [],
      "source": [
        "loc = ee.Geometry.Point(-99.2222, 46.7816)\n",
        "collection = (\n",
        "    ee.ImageCollection('USDA/NAIP/DOQQ')\n",
        "    .filterBounds(loc)\n",
        "    .filterDate('2008-01-01', '2020-01-01')\n",
        "    .filter(ee.Filter.listContains(\"system:band_names\", \"N\"))\n",
        ")"
      ]
    },
    {
      "cell_type": "code",
      "execution_count": null,
      "metadata": {
        "id": "vr_WgiK9yGi-"
      },
      "outputs": [],
      "source": [
        "out_dir = os.path.join(os.path.expanduser('~'), 'Downloads')"
      ]
    },
    {
      "cell_type": "code",
      "execution_count": null,
      "metadata": {
        "id": "iGR0M9i1yGi-"
      },
      "outputs": [],
      "source": [
        "print(collection.aggregate_array('system:index').getInfo())"
      ]
    },
    {
      "cell_type": "code",
      "execution_count": null,
      "metadata": {
        "id": "yQio6Es_yGi-"
      },
      "outputs": [],
      "source": [
        "geemap.ee_export_image_collection(collection, out_dir=out_dir)"
      ]
    },
    {
      "cell_type": "code",
      "execution_count": null,
      "metadata": {
        "id": "ZglFpZJvyGi_"
      },
      "outputs": [],
      "source": [
        "geemap.ee_export_image_collection_to_drive(collection, folder='export', scale=10)"
      ]
    },
    {
      "cell_type": "markdown",
      "metadata": {
        "id": "S7CbZdbUyGi_"
      },
      "source": [
        "## Extract pixels as a Numpy array"
      ]
    },
    {
      "cell_type": "code",
      "execution_count": null,
      "metadata": {
        "id": "gJ0Od3liyGi_"
      },
      "outputs": [],
      "source": [
        "import ee\n",
        "import geemap\n",
        "import numpy as np\n",
        "import matplotlib.pyplot as plt\n",
        "\n",
        "img = ee.Image('LANDSAT/LC08/C01/T1_SR/LC08_038029_20180810').select(['B4', 'B5', 'B6'])\n",
        "\n",
        "aoi = ee.Geometry.Polygon(\n",
        "    [[[-110.8, 44.7], [-110.8, 44.6], [-110.6, 44.6], [-110.6, 44.7]]], None, False\n",
        ")\n",
        "\n",
        "rgb_img = geemap.ee_to_numpy(img, region=aoi)\n",
        "print(rgb_img.shape)"
      ]
    },
    {
      "cell_type": "code",
      "execution_count": null,
      "metadata": {
        "id": "4x5wKDOiyGi_"
      },
      "outputs": [],
      "source": [
        "# Scale the data to [0, 255] to show as an RGB image.\n",
        "# Adapted from https://bit.ly/2XlmQY8. Credits to Justin Braaten\n",
        "rgb_img_test = (255 * ((rgb_img[:, :, 0:3] - 100) / 3500)).astype('uint8')\n",
        "plt.imshow(rgb_img_test)\n",
        "plt.show()"
      ]
    }
  ],
  "metadata": {
    "hide_input": false,
    "kernelspec": {
      "display_name": "Python 3",
      "language": "python",
      "name": "python3"
    },
    "language_info": {
      "codemirror_mode": {
        "name": "ipython",
        "version": 3
      },
      "file_extension": ".py",
      "mimetype": "text/x-python",
      "name": "python",
      "nbconvert_exporter": "python",
      "pygments_lexer": "ipython3",
      "version": "3.8.5"
    },
    "toc": {
      "base_numbering": 1,
      "nav_menu": {},
      "number_sections": true,
      "sideBar": true,
      "skip_h1_title": true,
      "title_cell": "Table of Contents",
      "title_sidebar": "Table of Contents",
      "toc_cell": false,
      "toc_position": {},
      "toc_section_display": true,
      "toc_window_display": true
    },
    "varInspector": {
      "cols": {
        "lenName": 16,
        "lenType": 16,
        "lenVar": 40
      },
      "kernels_config": {
        "python": {
          "delete_cmd_postfix": "",
          "delete_cmd_prefix": "del ",
          "library": "var_list.py",
          "varRefreshCmd": "print(var_dic_list())"
        },
        "r": {
          "delete_cmd_postfix": ") ",
          "delete_cmd_prefix": "rm(",
          "library": "var_list.r",
          "varRefreshCmd": "cat(var_dic_list()) "
        }
      },
      "types_to_exclude": [
        "module",
        "function",
        "builtin_function_or_method",
        "instance",
        "_Feature"
      ],
      "window_display": false
    },
    "colab": {
      "provenance": []
    },
    "widgets": {
      "application/vnd.jupyter.widget-state+json": {
        "ceea1c8029f842cc8519b30b39be9960": {
          "model_module": "@jupyter-widgets/output",
          "model_name": "OutputModel",
          "model_module_version": "1.0.0",
          "state": {
            "_dom_classes": [],
            "_model_module": "@jupyter-widgets/output",
            "_model_module_version": "1.0.0",
            "_model_name": "OutputModel",
            "_view_count": null,
            "_view_module": "@jupyter-widgets/output",
            "_view_module_version": "1.0.0",
            "_view_name": "OutputView",
            "layout": "IPY_MODEL_89337bbf9b43450ebedd18e060a8d72a",
            "msg_id": "",
            "outputs": [
              {
                "output_type": "display_data",
                "data": {
                  "text/plain": "<IPython.lib.display.YouTubeVideo at 0x7f2551b38fd0>",
                  "text/html": "\n        <iframe\n            width=\"800\"\n            height=\"450\"\n            src=\"https://www.youtube.com/embed/_6JOA-iiEGU\"\n            frameborder=\"0\"\n            allowfullscreen\n        ></iframe>\n        ",
                  "image/jpeg": "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\n"
                },
                "metadata": {}
              }
            ]
          }
        },
        "89337bbf9b43450ebedd18e060a8d72a": {
          "model_module": "@jupyter-widgets/base",
          "model_name": "LayoutModel",
          "model_module_version": "1.2.0",
          "state": {
            "_model_module": "@jupyter-widgets/base",
            "_model_module_version": "1.2.0",
            "_model_name": "LayoutModel",
            "_view_count": null,
            "_view_module": "@jupyter-widgets/base",
            "_view_module_version": "1.2.0",
            "_view_name": "LayoutView",
            "align_content": null,
            "align_items": null,
            "align_self": null,
            "border": null,
            "bottom": null,
            "display": null,
            "flex": null,
            "flex_flow": null,
            "grid_area": null,
            "grid_auto_columns": null,
            "grid_auto_flow": null,
            "grid_auto_rows": null,
            "grid_column": null,
            "grid_gap": null,
            "grid_row": null,
            "grid_template_areas": null,
            "grid_template_columns": null,
            "grid_template_rows": null,
            "height": null,
            "justify_content": null,
            "justify_items": null,
            "left": null,
            "margin": null,
            "max_height": null,
            "max_width": null,
            "min_height": null,
            "min_width": null,
            "object_fit": null,
            "object_position": null,
            "order": null,
            "overflow": null,
            "overflow_x": null,
            "overflow_y": null,
            "padding": null,
            "right": null,
            "top": null,
            "visibility": null,
            "width": "815px"
          }
        }
      }
    }
  },
  "nbformat": 4,
  "nbformat_minor": 0
}